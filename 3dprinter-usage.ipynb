{
 "cells": [
  {
   "cell_type": "code",
   "execution_count": 9,
   "metadata": {},
   "outputs": [
    {
     "name": "stdout",
     "output_type": "stream",
     "text": [
      "['client_msg_id', 'type', 'text', 'user', 'ts', 'team', 'user_team', 'source_team', 'user_profile', 'blocks', 'thread_ts', 'reply_count', 'reply_users_count', 'latest_reply', 'reply_users', 'replies', 'is_locked', 'subscribed', 'last_read', 'parent_user_id', 'files', 'upload', 'display_as_bot', 'reactions']\n",
      "0     c7a3ea41-c795-4839-83aa-7d0db9852578\n",
      "1     b2d68d32-bd2d-4da2-ada4-75824d36dd47\n",
      "2     5787119a-a986-4cf5-a9f0-f61d547f0df8\n",
      "3     0eb0e3c2-306c-4841-92c6-6cb09942525d\n",
      "4     e50ffde9-ed60-4db6-a1b4-7480741ba183\n",
      "5     46112242-3ea5-42a8-8325-1bfdac97dbeb\n",
      "6     dc3f418f-88c9-41c7-a380-19cda24559c7\n",
      "7     d7894020-92a4-4926-955b-3057da7e3dd4\n",
      "8     ddbe3f42-117b-44a1-9a1f-d6e2edf92948\n",
      "9     cde1e4f5-41e8-4c63-95b6-f989c7be4cb7\n",
      "10    b667b57e-856b-45b3-a947-8ce8ece9558f\n",
      "11                                     NaN\n",
      "12    145a7ee9-2cee-4b3e-874c-a0a49480955f\n",
      "13    26BC3145-E7F4-42DC-AE05-C3E103673689\n",
      "14    1ff2211b-6e5d-4369-ba7b-b05460653578\n",
      "15    66c718bf-4744-4c80-83a6-bf52db334af8\n",
      "16    66c7fa5c-2c24-44af-b6b2-89831983a397\n",
      "17    56046F8B-B21B-4CAB-9945-0EC92FD4884F\n",
      "18    501bbbfc-d284-4668-a85b-6dc4244d6edc\n",
      "19    D4A6A8B2-9979-4CE0-A5BD-54289371DA18\n",
      "20    5d3e547a-2977-4e56-ad57-4ce924915acc\n",
      "21    C8C16A7F-07E8-474A-96A6-5CD7D53FE041\n",
      "22    9FCA5B10-EDAF-45E0-BE64-3AE4149B8443\n",
      "Name: client_msg_id, dtype: object\n"
     ]
    },
    {
     "data": {
      "text/plain": [
       "21"
      ]
     },
     "execution_count": 9,
     "metadata": {},
     "output_type": "execute_result"
    }
   ],
   "source": [
    "%matplotlib inline\n",
    "\n",
    "import pandas as pd\n",
    "import matplotlib.pyplot as plt\n",
    "import datetime as dt\n",
    "\n",
    "printjobs = pd.read_json('3dp/2020-09-12.json')\n",
    "printjobs.describe()\n",
    "print(printjobs.columns.values.tolist())\n",
    "print(printjobs['client_msg_id'])\n",
    "sum(printjobs['parent_user_id'].isnull())\n"
   ]
  },
  {
   "cell_type": "code",
   "execution_count": null,
   "metadata": {},
   "outputs": [],
   "source": []
  },
  {
   "cell_type": "code",
   "execution_count": null,
   "metadata": {},
   "outputs": [],
   "source": []
  }
 ],
 "metadata": {
  "kernelspec": {
   "display_name": "Python 3",
   "language": "python",
   "name": "python3"
  },
  "language_info": {
   "codemirror_mode": {
    "name": "ipython",
    "version": 3
   },
   "file_extension": ".py",
   "mimetype": "text/x-python",
   "name": "python",
   "nbconvert_exporter": "python",
   "pygments_lexer": "ipython3",
   "version": "3.6.6+"
  }
 },
 "nbformat": 4,
 "nbformat_minor": 4
}
